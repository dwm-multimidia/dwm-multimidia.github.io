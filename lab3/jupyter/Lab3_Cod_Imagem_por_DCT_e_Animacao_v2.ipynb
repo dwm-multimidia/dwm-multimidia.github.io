{
  "nbformat": 4,
  "nbformat_minor": 0,
  "metadata": {
    "colab": {
      "name": "Lab3_Cod_Imagem_por_DCT_e_Animacao_v2.ipynb",
      "provenance": []
    },
    "kernelspec": {
      "name": "python3",
      "display_name": "Python 3"
    }
  },
  "cells": [
    {
      "cell_type": "markdown",
      "metadata": {
        "id": "qc-Av1aL4YUe"
      },
      "source": [
        "# **ESTI019 - 3QS2021 - CSM - Minami**\n",
        "# **Lab3 - Codificação de Imagem por DCT e Animação**\n",
        "\n",
        "<h2> Objetivos: </h2>\n",
        "\n",
        "1.   Produzir um vídeo de animação para o Grupo com Blender\n",
        "2.   Efetuar conversões entre espaços de cores\n",
        "3.   Comparar arquivos comprimidos JPEG\n",
        "4.   Efetuar compressão de imagem com DCT\n",
        "\n",
        "\n",
        "\n",
        "\n",
        "\n",
        "\n"
      ]
    },
    {
      "cell_type": "markdown",
      "metadata": {
        "id": "2xGMoaMOOp3T"
      },
      "source": [
        "# 1. *Produzir um vídeo de animação para o Grupo com Blender*\n",
        "\n",
        "Vejam o vídeo de como efetuar uma animação básica usando o Blender (instalação recomendada 2.8):"
      ]
    },
    {
      "cell_type": "markdown",
      "metadata": {
        "id": "IScm04H2F0Cn"
      },
      "source": [
        "\n",
        "https://youtu.be/xz4t1j2-1gs\n",
        "\n"
      ]
    },
    {
      "cell_type": "markdown",
      "metadata": {
        "id": "mPd9yuRtGDT1"
      },
      "source": [
        "# 2. *Efetuar conversões entre espaços de cores*"
      ]
    },
    {
      "cell_type": "code",
      "metadata": {
        "id": "WsVWlgKhO4Ds"
      },
      "source": [
        "import numpy as np\n",
        "import cv2 as cv\n",
        "import matplotlib.pyplot as plt"
      ],
      "execution_count": null,
      "outputs": []
    },
    {
      "cell_type": "code",
      "metadata": {
        "id": "8jyW4zH4O9tg"
      },
      "source": [
        "from google.colab import drive\n",
        "!ls -l \"drive/My Drive/Colab Notebooks\"   # verifica se montou o drive e se os arquivos estão lá...\n",
        "bgr1 = cv.imread('drive/My Drive/Colab Notebooks/messi5.jpg') # leitura no formato BGR!\n",
        "altura, largura, camadas = bgr1.shape\n",
        "print(\"Resolução: \", largura, \" x \", altura, \"PIXELS. \", camadas, \" camadas.\")"
      ],
      "execution_count": null,
      "outputs": []
    },
    {
      "cell_type": "markdown",
      "metadata": {
        "id": "wpf5UhsJRKtV"
      },
      "source": [
        "Separa os canais e re-arranja para formar imagem RGB"
      ]
    },
    {
      "cell_type": "code",
      "metadata": {
        "id": "kqFlCQRmPnyG"
      },
      "source": [
        "b1, g1, r1 = cv.split(bgr1)\n",
        "rgb2 = cv.merge([r1,g1,b1])\n",
        "# Q1 - O que foi feito aqui?"
      ],
      "execution_count": null,
      "outputs": []
    },
    {
      "cell_type": "markdown",
      "metadata": {
        "id": "ZAq02f5eRrCx"
      },
      "source": [
        "Imprime cores trocadas (BGR) e reais (RGB) "
      ]
    },
    {
      "cell_type": "code",
      "metadata": {
        "id": "saktcJyfQQsx"
      },
      "source": [
        "plt.figure(figsize=[12, 5])\n",
        "plt.subplot(121); plt.imshow(bgr1); plt.title('BGR')\n",
        "plt.subplot(122); plt.imshow(rgb2); plt.title('RBG')"
      ],
      "execution_count": null,
      "outputs": []
    },
    {
      "cell_type": "markdown",
      "metadata": {
        "id": "myDgNZ1HV2d1"
      },
      "source": [
        "Converte para os formatos YCrCb e HSV"
      ]
    },
    {
      "cell_type": "code",
      "metadata": {
        "id": "uml34ryiSLwT"
      },
      "source": [
        "ycrcb = cv.cvtColor(bgr1, cv.COLOR_BGR2YCrCb)\n",
        "hsv = cv.cvtColor(bgr1, cv.COLOR_BGR2HSV)\n",
        "plt.figure(figsize=[15,6])\n",
        "plt.subplot(131); plt.imshow(rgb2); plt.title('RGB')\n",
        "plt.subplot(132); plt.imshow(ycrcb); plt.title('YCrCb')\n",
        "plt.subplot(133); plt.imshow(hsv); plt.title('HSV')"
      ],
      "execution_count": null,
      "outputs": []
    },
    {
      "cell_type": "markdown",
      "metadata": {
        "id": "uFXXmCq6Ye0K"
      },
      "source": [
        "Separação das Camadas RGB individualmente"
      ]
    },
    {
      "cell_type": "code",
      "metadata": {
        "id": "IMmY7GcQYNW1"
      },
      "source": [
        "imageR = rgb2.copy()\n",
        "imageR[:, :, 1:3] = 0\n",
        "imageG = rgb2.copy()\n",
        "imageG[:, :, 0] = 0; imageG[:, :, 2] = 0\n",
        "imageB = rgb2.copy()\n",
        "imageB[:, :, 0:2] = 0     \n",
        "# Q2 - O que foi feito aqui?\n",
        "\n",
        "plt.figure(figsize=[15,6])\n",
        "plt.subplot(131); plt.imshow(imageR); plt.title('RGB_Camada R')\n",
        "plt.subplot(132); plt.imshow(imageG); plt.title('RGB_Camada G')\n",
        "plt.subplot(133); plt.imshow(imageB); plt.title('RGB_Camada B')"
      ],
      "execution_count": null,
      "outputs": []
    },
    {
      "cell_type": "markdown",
      "metadata": {
        "id": "30ivy1jEZoNf"
      },
      "source": [
        "Separação dos Canais YCbCr"
      ]
    },
    {
      "cell_type": "code",
      "metadata": {
        "id": "Pc3uw11HZMI3"
      },
      "source": [
        "y1, cr1, cb1 = cv.split(ycrcb)\n",
        "imageCR = ycrcb.copy()\n",
        "imageCR[:, :, 0] = 0\n",
        "imageCR[:, :, 2] = 0\n",
        "Cr = cv.cvtColor(imageCR, cv.COLOR_YCrCb2RGB)\n",
        "\n",
        "imageCB = ycrcb.copy()\n",
        "imageCB[:, :, 0] = 0\n",
        "imageCB[:, :, 1] = 0\n",
        "Cb = cv.cvtColor(imageCB, cv.COLOR_YCrCb2RGB)\n",
        "\n",
        "plt.figure(figsize=[15, 5])\n",
        "plt.subplot(141); plt.imshow(rgb2); plt.title('RGB original')\n",
        "plt.subplot(142); plt.imshow(y1, cmap='gray'); plt.title('YCrCb_Y')\n",
        "plt.subplot(143); plt.imshow(Cr); plt.title('YCrCb_Cr')\n",
        "plt.subplot(144); plt.imshow(Cb); plt.title('YCrCb_Cb')\n"
      ],
      "execution_count": null,
      "outputs": []
    },
    {
      "cell_type": "markdown",
      "metadata": {
        "id": "saAqwdBGdyeR"
      },
      "source": [
        "# Com as Imagens do Grupo:\n",
        "\n",
        "\n",
        "1.   Faça o mesmo com uma imagem de cada integrante do grupo e\n",
        "2.   Com a foto montagem de todos os do grupo, lembrando das roupas com cores diferentes, preferencialmente (R, G e B).\n",
        "\n"
      ]
    },
    {
      "cell_type": "markdown",
      "metadata": {
        "id": "5HoSdfnuesB9"
      },
      "source": [
        "********************************************************************************"
      ]
    },
    {
      "cell_type": "markdown",
      "metadata": {
        "id": "tnMyvbgoeYqH"
      },
      "source": [
        "# 3. *Comparar arquivos comprimidos JPEG*\n",
        "*COMPRESSÃO DE IMAGENS COM PERDAS*"
      ]
    },
    {
      "cell_type": "markdown",
      "metadata": {
        "id": "_LYgR_b6evpW"
      },
      "source": [
        "================================================================================"
      ]
    },
    {
      "cell_type": "markdown",
      "metadata": {
        "id": "OJTC08GbepV5"
      },
      "source": [
        "\n",
        "*   O formato JPEG permite compressão da imagem ao salvá-la num arquivo com o comando imwrite().\n",
        "\n",
        "*   A compressão afeta a qualidade da imagem, sendo controlada pelo parâmetro IMWRITE_JPEG_QUALITY entre 0-100, sendo que quanto maior, melhor a qualidade. O default é 95.\n",
        "\n",
        "\n"
      ]
    },
    {
      "cell_type": "code",
      "metadata": {
        "id": "MQVvCbFCbcgH"
      },
      "source": [
        "bgr = cv.imread('drive/My Drive/Colab Notebooks/lena.bmp')  # formato BGR\n",
        "\n",
        "# salva com menor qualidade, fatores 25 e 5\n",
        "cv.imwrite('lena25.jpg', bgr, [cv.IMWRITE_JPEG_QUALITY, 25])\n",
        "cv.imwrite('lena05.jpg', bgr, [cv.IMWRITE_JPEG_QUALITY, 5])\n",
        "\n",
        "# leitura para visualização e conversão para acertar a cor\n",
        "rgb = cv.cvtColor(bgr, cv.COLOR_BGR2RGB)\n",
        "bgr25 = cv.imread('lena25.jpg'); rgb25 = cv.cvtColor(bgr25, cv.COLOR_BGR2RGB)\n",
        "bgr05 = cv.imread('lena05.jpg'); rgb05 = cv.cvtColor(bgr05, cv.COLOR_BGR2RGB)\n",
        "\n",
        "plt.figure(figsize=[15,6])\n",
        "plt.subplot(131); plt.imshow(rgb); plt.title('RGB Original')\n",
        "plt.subplot(132); plt.imshow(rgb25); plt.title('JPEG fator 25')\n",
        "plt.subplot(133); plt.imshow(rgb05); plt.title('JPEG fator 05')"
      ],
      "execution_count": null,
      "outputs": []
    },
    {
      "cell_type": "markdown",
      "metadata": {
        "id": "yESl2dinlRPs"
      },
      "source": [
        "# COM AS FOTOS DO GRUPO\n",
        "\n",
        "\n",
        "1.   Repita o procedimento para cada uma das fotos dos integrantes do grupo e para a foto-montagem do grupo todo\n",
        "2.   Leia o tamanho dos arquivos (em bytes) e faça uma tabela comparando os tamanhos originais e os comprimidos e calcule a porcentagem de compressão de cada arquivo destes tamanhos na tabela construída\n",
        "\n"
      ]
    },
    {
      "cell_type": "markdown",
      "metadata": {
        "id": "eNMRKnz8mYyB"
      },
      "source": [
        "********************************************************************************\n",
        "# TRANSFORMADA DISCRETA COSSENO\n",
        "********************************************************************************"
      ]
    },
    {
      "cell_type": "markdown",
      "metadata": {
        "id": "RkUfhcEJGfD-"
      },
      "source": [
        "# *4. Efetuar compressão de imagem com DCT*"
      ]
    },
    {
      "cell_type": "markdown",
      "metadata": {
        "id": "NAg3w362m0CY"
      },
      "source": [
        "Nesta parte calcule a DCT em bloco de 8x8 da imagem, referente à bola"
      ]
    },
    {
      "cell_type": "code",
      "metadata": {
        "id": "Tv3bwu6Vld1n"
      },
      "source": [
        "img = cv.imread('drive/My Drive/Colab Notebooks/messi5.jpg')\n",
        "alt, larg, cam = img.shape\n",
        "\n",
        "ycbcr = cv.cvtColor(img, cv.COLOR_BGR2YCrCb)\n",
        "y, cr, cb = cv.split(ycrcb)\n",
        "\n",
        "bola = y[280:340, 330:390]\n",
        "h, w = bola.shape\n",
        "\n",
        "cx = round(w/2)\n",
        "cy = round(h/2)\n",
        "\n",
        "# Escolhendo um pedaço da imagem \"BOLA\"\n",
        "bloco8x8 = bola[cx-4:cx+4, cy-4:cy+4]\n",
        "print(\"(1)\"); print(\"Matriz 8x8: componente Y original\")\n",
        "print(bloco8x8)\n",
        "\n",
        "bloco8x8f = np.float32(bloco8x8)/255.0  # conversão para float\n",
        "dct8x8f = cv.dct(bloco8x8f)   # calcula a DCT\n",
        "dct8x8 = np.int64( (dct8x8f*255.0)) # coversão para inteiro\n",
        "\n",
        "print(\"(2)\"); print(\"Imagem Y 8x8 (formato ponto flutuante)\")\n",
        "print( np.around(bloco8x8f, decimals = 2) )\n",
        "\n",
        "print(\"(3)\"); print(\"DCT de Y (ponto flutuante)\")\n",
        "print( np.around(dct8x8f, decimals = 2) )\n",
        "\n",
        "print(\"(4)\"); print(\"DCT de Y (formato inteiro)\")\n",
        "print(dct8x8)\n",
        "\n"
      ],
      "execution_count": null,
      "outputs": []
    },
    {
      "cell_type": "markdown",
      "metadata": {
        "id": "bcv2arEox0YL"
      },
      "source": [
        "ZERANDO manualmente da diagonal da DCT as componentes AC"
      ]
    },
    {
      "cell_type": "code",
      "metadata": {
        "id": "4m22bGyPvQSB"
      },
      "source": [
        "dct8x8fz = dct8x8f.copy()\n",
        "dct8x8fz[0,7] = 0\n",
        "dct8x8fz[1,6:8] = 0\n",
        "dct8x8fz[2,5:8] = 0\n",
        "dct8x8fz[3,4:8] = 0\n",
        "dct8x8fz[4,3:8] = 0\n",
        "dct8x8fz[5,2:8] = 0\n",
        "dct8x8fz[6,1:8] = 0\n",
        "dct8x8fz[7,0:8] = 0\n",
        "print( np.around(dct8x8fz, decimals = 2))\n"
      ],
      "execution_count": null,
      "outputs": []
    },
    {
      "cell_type": "markdown",
      "metadata": {
        "id": "ElEE2bHbx7XE"
      },
      "source": [
        "Bloco Original e Reconstruído com Zeros das componentes AC da diagonal para baixo zerados"
      ]
    },
    {
      "cell_type": "code",
      "metadata": {
        "id": "gaPGwuQNvzmt"
      },
      "source": [
        "bloco8x8recz = cv.idct(dct8x8fz)\n",
        "\n",
        "plt.subplot(121); plt.imshow(bloco8x8,'gray'); plt.title('Bloco Original')\n",
        "plt.subplot(122); plt.imshow(bloco8x8recz,'gray'); plt.title('Bloco Reconstruído com Zeros')\n"
      ],
      "execution_count": null,
      "outputs": []
    },
    {
      "cell_type": "markdown",
      "metadata": {
        "id": "GDg2VceFysgX"
      },
      "source": [
        "# Escolha outro bloco de 8x8 da imagem e:\n",
        " \n",
        "\n",
        "1.   refaça este procedimento zerando mais DUAS DIAGONAIS ACIMA DA PRINCIPAL além destas\n",
        "2.   Compare e comente as imagens do bloco original e reconstruída\n"
      ]
    },
    {
      "cell_type": "markdown",
      "metadata": {
        "id": "Q9DrrGBJGlmF"
      },
      "source": [
        "                                                   -X-X-X-\n",
        "\n",
        "\n",
        "\n",
        "\n",
        "\n",
        "\n",
        "\n",
        "\n",
        "\n",
        "\n"
      ]
    }
  ]
}