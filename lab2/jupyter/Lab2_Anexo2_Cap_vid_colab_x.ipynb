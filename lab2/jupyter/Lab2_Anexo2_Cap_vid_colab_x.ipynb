{
 "cells": [
  {
   "cell_type": "markdown",
   "metadata": {
    "id": "BZvl5dIiumml"
   },
   "source": [
    "# Lab2 - Anexo 2 - Captura de Video pelo Colab"
   ]
  },
  {
   "cell_type": "markdown",
   "metadata": {
    "id": "KnEpl0mau0z3"
   },
   "source": [
    "Primeiro monte o drive"
   ]
  },
  {
   "cell_type": "code",
   "execution_count": null,
   "metadata": {
    "id": "YFVQ7mGckOgt"
   },
   "outputs": [],
   "source": [
    "from google.colab import drive\n",
    "drive.mount('/content/drive/')"
   ]
  },
  {
   "cell_type": "markdown",
   "metadata": {
    "id": "Xth8gX2UvH_I"
   },
   "source": [
    "### Captura de Video usando uma webcam\n",
    "\n",
    "Execute o código JavaScript abaixo para definir a função de captura e os botões de início e fim de gravação"
   ]
  },
  {
   "cell_type": "code",
   "execution_count": null,
   "metadata": {
    "id": "MIOk8vE4MUms"
   },
   "outputs": [],
   "source": [
    "from IPython.display import display, Javascript,HTML\n",
    "from google.colab.output import eval_js\n",
    "from base64 import b64decode"
   ]
  },
  {
   "cell_type": "code",
   "execution_count": null,
   "metadata": {
    "id": "Bpf6r47W2trv"
   },
   "outputs": [],
   "source": [
    "def record_video(filename):\n",
    "  js=Javascript(\"\"\"\n",
    "    async function recordVideo() {\n",
    "      const options = { mimeType: \"video/webm; codecs=vp9\" };\n",
    "      const div = document.createElement('div');\n",
    "      const capture = document.createElement('button');\n",
    "      const stopCapture = document.createElement(\"button\");\n",
    "      \n",
    "      capture.textContent = \"Start Recording\";\n",
    "      capture.style.background = \"orange\";\n",
    "      capture.style.color = \"white\";\n",
    "\n",
    "      stopCapture.textContent = \"Stop Recording\";\n",
    "      stopCapture.style.background = \"red\";\n",
    "      stopCapture.style.color = \"white\";\n",
    "      div.appendChild(capture);\n",
    "\n",
    "      const video = document.createElement('video');\n",
    "      const recordingVid = document.createElement(\"video\");\n",
    "      video.style.display = 'block';\n",
    "\n",
    "      const stream = await navigator.mediaDevices.getUserMedia({audio:true, video: true});\n",
    "    \n",
    "      let recorder = new MediaRecorder(stream, options);\n",
    "      document.body.appendChild(div);\n",
    "      div.appendChild(video);\n",
    "\n",
    "      video.srcObject = stream;\n",
    "      video.muted = true;\n",
    "\n",
    "      await video.play();\n",
    "\n",
    "      google.colab.output.setIframeHeight(document.documentElement.scrollHeight, true);\n",
    "\n",
    "      await new Promise((resolve) => {\n",
    "        capture.onclick = resolve;\n",
    "      });\n",
    "      recorder.start();\n",
    "      capture.replaceWith(stopCapture);\n",
    "\n",
    "      await new Promise((resolve) => stopCapture.onclick = resolve);\n",
    "      recorder.stop();\n",
    "      let recData = await new Promise((resolve) => recorder.ondataavailable = resolve);\n",
    "      let arrBuff = await recData.data.arrayBuffer();\n",
    "      \n",
    "      // stop the stream and remove the video element\n",
    "      stream.getVideoTracks()[0].stop();\n",
    "      div.remove();\n",
    "\n",
    "      let binaryString = \"\";\n",
    "      let bytes = new Uint8Array(arrBuff);\n",
    "      bytes.forEach((byte) => {\n",
    "        binaryString += String.fromCharCode(byte);\n",
    "      })\n",
    "    return btoa(binaryString);\n",
    "    }\n",
    "  \"\"\")\n",
    "  try:\n",
    "    display(js)\n",
    "    data=eval_js('recordVideo({})')\n",
    "    binary=b64decode(data)\n",
    "    with open(filename,\"wb\") as video_file:\n",
    "      video_file.write(binary)\n",
    "    print(f\"Finished recording video at:{filename}\")\n",
    "  except Exception as err:\n",
    "    print(str(err))"
   ]
  },
  {
   "cell_type": "code",
   "execution_count": null,
   "metadata": {
    "id": "Y_RQA0SB7kH3"
   },
   "outputs": [],
   "source": []
  },
  {
   "cell_type": "markdown",
   "metadata": {
    "id": "ZGxc8EprvjKW"
   },
   "source": [
    "# Captura de video com a Webcam\n",
    "\n",
    "Execute o código abaixo para capturar e mostrar um vídeo.\n",
    "\n",
    "Neste exemplo o arquivo é \"meuvideo.mp4\"\n",
    "\n",
    "Mude o nome do arquivo conforme sua necessidade."
   ]
  },
  {
   "cell_type": "code",
   "execution_count": null,
   "metadata": {
    "id": "ydyhuxTLkijr"
   },
   "outputs": [],
   "source": [
    "import os\n",
    "V_path = \"/content/drive/My Drive/Colab Notebooks/\"\n",
    "video_path = os.path.join(V_path,'meuvideo.mp4')\n",
    "record_video(video_path)"
   ]
  },
  {
   "cell_type": "code",
   "execution_count": null,
   "metadata": {
    "id": "C7EQ2QJr77A8"
   },
   "outputs": [],
   "source": []
  },
  {
   "cell_type": "markdown",
   "metadata": {
    "id": "IQyfSmTjwe8f"
   },
   "source": [
    "### Abrir o video gravado\n",
    "\n",
    "Para mostrar o video no colab, execute os codigos abaixo"
   ]
  },
  {
   "cell_type": "code",
   "execution_count": null,
   "metadata": {
    "id": "QYpEOxjr65zW"
   },
   "outputs": [],
   "source": []
  },
  {
   "cell_type": "code",
   "execution_count": null,
   "metadata": {
    "id": "3q3ctl195CeN"
   },
   "outputs": [],
   "source": [
    "from IPython.display import HTML\n",
    "from base64 import b64encode\n",
    "\n",
    "def show_video(video_path, video_width = 600):\n",
    "  \n",
    "  video_file = open(video_path, \"r+b\").read()\n",
    "\n",
    "  video_url = f\"data:video/mp4;base64,{b64encode(video_file).decode()}\"\n",
    "  return HTML(f\"\"\"<video width={video_width} controls><source src=\"{video_url}\"></video>\"\"\")\n",
    "\n",
    "\n",
    "show_video(video_path)"
   ]
  },
  {
   "cell_type": "code",
   "execution_count": null,
   "metadata": {
    "id": "hHSvpWTh7Doq"
   },
   "outputs": [],
   "source": []
  },
  {
   "cell_type": "markdown",
   "metadata": {
    "id": "bIoroUCylDSW"
   },
   "source": [
    "**Referencia:**\n",
    "\n",
    "Adaptado de: **How to Capture and Play Video in Google Colab?**\n",
    "\n",
    "https://androidkt.com/how-to-capture-and-play-video-in-google-colab/\n",
    "\n"
   ]
  }
 ],
 "metadata": {
  "colab": {
   "collapsed_sections": [],
   "name": "Lab2_Anexo2_Cap_vid_colab_x.ipynb",
   "provenance": []
  },
  "kernelspec": {
   "display_name": "Python 3 (ipykernel)",
   "language": "python",
   "name": "python3"
  },
  "language_info": {
   "codemirror_mode": {
    "name": "ipython",
    "version": 3
   },
   "file_extension": ".py",
   "mimetype": "text/x-python",
   "name": "python",
   "nbconvert_exporter": "python",
   "pygments_lexer": "ipython3",
   "version": "3.8.5"
  }
 },
 "nbformat": 4,
 "nbformat_minor": 1
}
