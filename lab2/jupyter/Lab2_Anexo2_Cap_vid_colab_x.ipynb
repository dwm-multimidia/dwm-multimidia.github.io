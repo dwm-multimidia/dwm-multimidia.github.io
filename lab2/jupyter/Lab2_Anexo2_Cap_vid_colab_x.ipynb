{
  "nbformat": 4,
  "nbformat_minor": 0,
  "metadata": {
    "colab": {
      "name": "Lab2_Anexo2_Cap_vid_colab_x.ipynb",
      "provenance": [],
      "collapsed_sections": [],
      "toc_visible": true,
      "include_colab_link": true
    },
    "kernelspec": {
      "display_name": "Python 3 (ipykernel)",
      "language": "python",
      "name": "python3"
    },
    "language_info": {
      "codemirror_mode": {
        "name": "ipython",
        "version": 3
      },
      "file_extension": ".py",
      "mimetype": "text/x-python",
      "name": "python",
      "nbconvert_exporter": "python",
      "pygments_lexer": "ipython3",
      "version": "3.8.5"
    }
  },
  "cells": [
    {
      "cell_type": "markdown",
      "metadata": {
        "id": "view-in-github",
        "colab_type": "text"
      },
      "source": [
        "<a href=\"https://colab.research.google.com/github/dwm-multimidia/dwm-multimidia.github.io/blob/master/lab2/jupyter/Lab2_Anexo2_Cap_vid_colab_x.ipynb\" target=\"_parent\"><img src=\"https://colab.research.google.com/assets/colab-badge.svg\" alt=\"Open In Colab\"/></a>"
      ]
    },
    {
      "cell_type": "markdown",
      "metadata": {
        "id": "BZvl5dIiumml"
      },
      "source": [
        "# Lab2 - Anexo 2 - Captura de Video pelo Colab"
      ]
    },
    {
      "cell_type": "markdown",
      "metadata": {
        "id": "9sVWRQ6ngaGR"
      },
      "source": [
        "### Clonando o nosso repositório do github pra conseguir acessar os arquivos\n"
      ]
    },
    {
      "cell_type": "code",
      "metadata": {
        "id": "YFVQ7mGckOgt",
        "colab": {
          "base_uri": "https://localhost:8080/"
        },
        "outputId": "880d1514-321f-4436-a697-b464693f4373"
      },
      "source": [
        "from pathlib import Path\n",
        "import shutil\n",
        "\n",
        "dirGit = Path('/content/dwm-multimidia.github.io/')\n",
        "if dirGit.exists():\n",
        "  shutil.rmtree(dirGit)\n",
        "\n",
        "!git clone https://github.com/dwm-multimidia/dwm-multimidia.github.io.git\n",
        "\n",
        "dirLab2 = dirGit.joinpath('lab2/jupyter/')\n",
        "print('\\nAgora temos acesso aos arquivos:\\n\\t', '\\n\\t '.join([str(arquivo) for arquivo in dirLab2.iterdir()]))"
      ],
      "execution_count": 2,
      "outputs": [
        {
          "output_type": "stream",
          "name": "stdout",
          "text": [
            "Cloning into 'dwm-multimidia.github.io'...\n",
            "remote: Enumerating objects: 199, done.\u001b[K\n",
            "remote: Counting objects: 100% (199/199), done.\u001b[K\n",
            "remote: Compressing objects: 100% (146/146), done.\u001b[K\n",
            "remote: Total 199 (delta 82), reused 143 (delta 41), pack-reused 0\u001b[K\n",
            "Receiving objects: 100% (199/199), 51.07 MiB | 33.91 MiB/s, done.\n",
            "Resolving deltas: 100% (82/82), done.\n",
            "\n",
            "Agora temos acesso aos arquivos:\n",
            "\t /content/dwm-multimidia.github.io/lab2/jupyter/Lab2_Anexo1_Cap_img_colab_x.ipynb\n",
            "\t /content/dwm-multimidia.github.io/lab2/jupyter/Lab2_Imagem_Video_v2.ipynb\n",
            "\t /content/dwm-multimidia.github.io/lab2/jupyter/Pikachu.mp4\n",
            "\t /content/dwm-multimidia.github.io/lab2/jupyter/Lab2_Anexo2_Cap_vid_colab_x.ipynb\n",
            "\t /content/dwm-multimidia.github.io/lab2/jupyter/avatares.png\n",
            "\t /content/dwm-multimidia.github.io/lab2/jupyter/photo1.jpg\n",
            "\t /content/dwm-multimidia.github.io/lab2/jupyter/messi5.jpg\n",
            "\t /content/dwm-multimidia.github.io/lab2/jupyter/dimitri_william_matheus.png\n",
            "\t /content/dwm-multimidia.github.io/lab2/jupyter/photo3.jpg\n",
            "\t /content/dwm-multimidia.github.io/lab2/jupyter/photo2.jpg\n"
          ]
        }
      ]
    },
    {
      "cell_type": "markdown",
      "metadata": {
        "id": "Xth8gX2UvH_I"
      },
      "source": [
        "### Captura de Video usando uma webcam\n",
        "\n",
        "Execute o código JavaScript abaixo para definir a função de captura e os botões de início e fim de gravação"
      ]
    },
    {
      "cell_type": "code",
      "metadata": {
        "id": "MIOk8vE4MUms"
      },
      "source": [
        "from IPython.display import display, Javascript,HTML\n",
        "from google.colab.output import eval_js\n",
        "from base64 import b64decode"
      ],
      "execution_count": 3,
      "outputs": []
    },
    {
      "cell_type": "code",
      "metadata": {
        "id": "Bpf6r47W2trv"
      },
      "source": [
        "def record_video(filename):\n",
        "  js=Javascript(\"\"\"\n",
        "    async function recordVideo() {\n",
        "      const options = { mimeType: \"video/webm; codecs=vp9\" };\n",
        "      const div = document.createElement('div');\n",
        "      const capture = document.createElement('button');\n",
        "      const stopCapture = document.createElement(\"button\");\n",
        "      \n",
        "      capture.textContent = \"Start Recording\";\n",
        "      capture.style.background = \"orange\";\n",
        "      capture.style.color = \"white\";\n",
        "\n",
        "      stopCapture.textContent = \"Stop Recording\";\n",
        "      stopCapture.style.background = \"red\";\n",
        "      stopCapture.style.color = \"white\";\n",
        "      div.appendChild(capture);\n",
        "\n",
        "      const video = document.createElement('video');\n",
        "      const recordingVid = document.createElement(\"video\");\n",
        "      video.style.display = 'block';\n",
        "\n",
        "      const stream = await navigator.mediaDevices.getUserMedia({audio:true, video: true});\n",
        "    \n",
        "      let recorder = new MediaRecorder(stream, options);\n",
        "      document.body.appendChild(div);\n",
        "      div.appendChild(video);\n",
        "\n",
        "      video.srcObject = stream;\n",
        "      video.muted = true;\n",
        "\n",
        "      await video.play();\n",
        "\n",
        "      google.colab.output.setIframeHeight(document.documentElement.scrollHeight, true);\n",
        "\n",
        "      await new Promise((resolve) => {\n",
        "        capture.onclick = resolve;\n",
        "      });\n",
        "      recorder.start();\n",
        "      capture.replaceWith(stopCapture);\n",
        "\n",
        "      await new Promise((resolve) => stopCapture.onclick = resolve);\n",
        "      recorder.stop();\n",
        "      let recData = await new Promise((resolve) => recorder.ondataavailable = resolve);\n",
        "      let arrBuff = await recData.data.arrayBuffer();\n",
        "      \n",
        "      // stop the stream and remove the video element\n",
        "      stream.getVideoTracks()[0].stop();\n",
        "      div.remove();\n",
        "\n",
        "      let binaryString = \"\";\n",
        "      let bytes = new Uint8Array(arrBuff);\n",
        "      bytes.forEach((byte) => {\n",
        "        binaryString += String.fromCharCode(byte);\n",
        "      })\n",
        "    return btoa(binaryString);\n",
        "    }\n",
        "  \"\"\")\n",
        "  try:\n",
        "    display(js)\n",
        "    data=eval_js('recordVideo({})')\n",
        "    binary=b64decode(data)\n",
        "    with open(filename,\"wb\") as video_file:\n",
        "      video_file.write(binary)\n",
        "    print(f\"Finished recording video at:{filename}\")\n",
        "  except Exception as err:\n",
        "    print(str(err))"
      ],
      "execution_count": 4,
      "outputs": []
    },
    {
      "cell_type": "markdown",
      "metadata": {
        "id": "ZGxc8EprvjKW"
      },
      "source": [
        "# Captura de video com a Webcam\n",
        "\n",
        "Execute o código abaixo para capturar e mostrar um vídeo.\n",
        "\n",
        "Neste exemplo o arquivo é \"meuvideo.mp4\"\n",
        "\n",
        "Mude o nome do arquivo conforme sua necessidade."
      ]
    },
    {
      "cell_type": "code",
      "metadata": {
        "id": "ydyhuxTLkijr",
        "colab": {
          "base_uri": "https://localhost:8080/",
          "height": 34
        },
        "outputId": "cb9f6896-5cf8-4059-882b-f3130eaca34d"
      },
      "source": [
        "import os\n",
        "V_path = dirLab2\n",
        "video_path = os.path.join(V_path,'meuvideo.mp4')\n",
        "record_video(video_path)"
      ],
      "execution_count": 5,
      "outputs": [
        {
          "output_type": "display_data",
          "data": {
            "application/javascript": [
              "\n",
              "    async function recordVideo() {\n",
              "      const options = { mimeType: \"video/webm; codecs=vp9\" };\n",
              "      const div = document.createElement('div');\n",
              "      const capture = document.createElement('button');\n",
              "      const stopCapture = document.createElement(\"button\");\n",
              "      \n",
              "      capture.textContent = \"Start Recording\";\n",
              "      capture.style.background = \"orange\";\n",
              "      capture.style.color = \"white\";\n",
              "\n",
              "      stopCapture.textContent = \"Stop Recording\";\n",
              "      stopCapture.style.background = \"red\";\n",
              "      stopCapture.style.color = \"white\";\n",
              "      div.appendChild(capture);\n",
              "\n",
              "      const video = document.createElement('video');\n",
              "      const recordingVid = document.createElement(\"video\");\n",
              "      video.style.display = 'block';\n",
              "\n",
              "      const stream = await navigator.mediaDevices.getUserMedia({audio:true, video: true});\n",
              "    \n",
              "      let recorder = new MediaRecorder(stream, options);\n",
              "      document.body.appendChild(div);\n",
              "      div.appendChild(video);\n",
              "\n",
              "      video.srcObject = stream;\n",
              "      video.muted = true;\n",
              "\n",
              "      await video.play();\n",
              "\n",
              "      google.colab.output.setIframeHeight(document.documentElement.scrollHeight, true);\n",
              "\n",
              "      await new Promise((resolve) => {\n",
              "        capture.onclick = resolve;\n",
              "      });\n",
              "      recorder.start();\n",
              "      capture.replaceWith(stopCapture);\n",
              "\n",
              "      await new Promise((resolve) => stopCapture.onclick = resolve);\n",
              "      recorder.stop();\n",
              "      let recData = await new Promise((resolve) => recorder.ondataavailable = resolve);\n",
              "      let arrBuff = await recData.data.arrayBuffer();\n",
              "      \n",
              "      // stop the stream and remove the video element\n",
              "      stream.getVideoTracks()[0].stop();\n",
              "      div.remove();\n",
              "\n",
              "      let binaryString = \"\";\n",
              "      let bytes = new Uint8Array(arrBuff);\n",
              "      bytes.forEach((byte) => {\n",
              "        binaryString += String.fromCharCode(byte);\n",
              "      })\n",
              "    return btoa(binaryString);\n",
              "    }\n",
              "  "
            ],
            "text/plain": [
              "<IPython.core.display.Javascript object>"
            ]
          },
          "metadata": {}
        },
        {
          "output_type": "stream",
          "name": "stdout",
          "text": [
            "Finished recording video at:/content/dwm-multimidia.github.io/lab2/jupyter/meuvideo.mp4\n"
          ]
        }
      ]
    },
    {
      "cell_type": "markdown",
      "metadata": {
        "id": "IQyfSmTjwe8f"
      },
      "source": [
        "### Abrir o video gravado\n",
        "\n",
        "Para mostrar o video no colab, execute os codigos abaixo"
      ]
    },
    {
      "cell_type": "code",
      "metadata": {
        "id": "3q3ctl195CeN"
      },
      "source": [
        "from IPython.display import HTML\n",
        "from base64 import b64encode\n",
        "\n",
        "def show_video(video_path, video_width = 600):\n",
        "  \n",
        "  video_file = open(video_path, \"r+b\").read()\n",
        "\n",
        "  video_url = f\"data:video/mp4;base64,{b64encode(video_file).decode()}\"\n",
        "  return HTML(f\"\"\"<video width={video_width} controls><source src=\"{video_url}\"></video>\"\"\")\n",
        "\n",
        "\n",
        "show_video(video_path)"
      ],
      "execution_count": null,
      "outputs": []
    },
    {
      "cell_type": "markdown",
      "metadata": {
        "id": "bIoroUCylDSW"
      },
      "source": [
        "**Referencia:**\n",
        "\n",
        "Adaptado de: **How to Capture and Play Video in Google Colab?**\n",
        "\n",
        "https://androidkt.com/how-to-capture-and-play-video-in-google-colab/\n",
        "\n"
      ]
    }
  ]
}