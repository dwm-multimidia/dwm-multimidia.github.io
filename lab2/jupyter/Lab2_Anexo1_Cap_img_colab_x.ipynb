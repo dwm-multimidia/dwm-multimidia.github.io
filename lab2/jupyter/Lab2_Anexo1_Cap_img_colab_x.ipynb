{
  "nbformat": 4,
  "nbformat_minor": 0,
  "metadata": {
    "colab": {
      "name": "Lab2_Anexo1_Cap_img_colab_x.ipynb",
      "provenance": [],
      "collapsed_sections": [],
      "include_colab_link": true
    },
    "kernelspec": {
      "display_name": "Python 3 (ipykernel)",
      "language": "python",
      "name": "python3"
    },
    "language_info": {
      "codemirror_mode": {
        "name": "ipython",
        "version": 3
      },
      "file_extension": ".py",
      "mimetype": "text/x-python",
      "name": "python",
      "nbconvert_exporter": "python",
      "pygments_lexer": "ipython3",
      "version": "3.8.5"
    }
  },
  "cells": [
    {
      "cell_type": "markdown",
      "metadata": {
        "id": "view-in-github",
        "colab_type": "text"
      },
      "source": [
        "<a href=\"https://colab.research.google.com/github/dwm-multimidia/dwm-multimidia.github.io/blob/master/lab2/jupyter/Lab2_Anexo1_Cap_img_colab_x.ipynb\" target=\"_parent\"><img src=\"https://colab.research.google.com/assets/colab-badge.svg\" alt=\"Open In Colab\"/></a>"
      ]
    },
    {
      "cell_type": "markdown",
      "metadata": {
        "id": "A9XX-CKXhluq"
      },
      "source": [
        "## Clonando o nosso repositório do github pra conseguir acessar os arquivos\n",
        "\n",
        "---\n",
        "\n"
      ]
    },
    {
      "cell_type": "code",
      "metadata": {
        "id": "VHTl5DYeUmrQ",
        "outputId": "ae7512dc-5a41-406c-9ac4-02b2da9c5b75",
        "colab": {
          "base_uri": "https://localhost:8080/"
        }
      },
      "source": [
        "from pathlib import Path\n",
        "import shutil\n",
        "\n",
        "dirGit = Path('/content/dwm-multimidia.github.io/')\n",
        "if dirGit.exists():\n",
        "  shutil.rmtree(dirGit)\n",
        "\n",
        "!git clone https://github.com/dwm-multimidia/dwm-multimidia.github.io.git\n",
        "\n",
        "dirLab2 = dirGit.joinpath('lab2/jupyter/')\n",
        "print('\\nAgora temos acesso aos arquivos:\\n\\t', '\\n\\t '.join([str(arquivo) for arquivo in dirLab2.iterdir()]))"
      ],
      "execution_count": 1,
      "outputs": [
        {
          "output_type": "stream",
          "name": "stdout",
          "text": [
            "Cloning into 'dwm-multimidia.github.io'...\n",
            "remote: Enumerating objects: 117, done.\u001b[K\n",
            "remote: Counting objects: 100% (117/117), done.\u001b[K\n",
            "remote: Compressing objects: 100% (86/86), done.\u001b[K\n",
            "remote: Total 117 (delta 40), reused 83 (delta 19), pack-reused 0\u001b[K\n",
            "Receiving objects: 100% (117/117), 45.16 MiB | 33.49 MiB/s, done.\n",
            "Resolving deltas: 100% (40/40), done.\n",
            "\n",
            "Agora temos acesso aos arquivos:\n",
            "\t /content/dwm-multimidia.github.io/lab2/jupyter/Lab2_Anexo1_Cap_img_colab_x.ipynb\n",
            "\t /content/dwm-multimidia.github.io/lab2/jupyter/Lab2_Imagem_Video_v2.ipynb\n",
            "\t /content/dwm-multimidia.github.io/lab2/jupyter/Pikachu.mp4\n",
            "\t /content/dwm-multimidia.github.io/lab2/jupyter/Lab2_Anexo2_Cap_vid_colab_x.ipynb\n",
            "\t /content/dwm-multimidia.github.io/lab2/jupyter/messi5.jpg\n"
          ]
        }
      ]
    },
    {
      "cell_type": "markdown",
      "metadata": {
        "id": "gW6yuEw3k3bD"
      },
      "source": [
        "### Captura de Imagem da Camera usando uma webcam\n",
        "\n",
        "Execute o código JavaScript abaixo para definir a função de captura e o botão de fotografar"
      ]
    },
    {
      "cell_type": "code",
      "metadata": {
        "id": "vRusSOjInopL"
      },
      "source": [
        "from IPython.display import display, Javascript\n",
        "from google.colab.output import eval_js\n",
        "from base64 import b64decode"
      ],
      "execution_count": 2,
      "outputs": []
    },
    {
      "cell_type": "code",
      "metadata": {
        "id": "SucxddsPhOmj"
      },
      "source": [
        "def take_photo(filename, quality):\n",
        "  js = Javascript('''\n",
        "    async function takePhoto(quality) {\n",
        "      const div = document.createElement('div');\n",
        "      const capture = document.createElement('button');\n",
        "      capture.textContent = 'Capture';\n",
        "      div.appendChild(capture);\n",
        "\n",
        "      const video = document.createElement('video');\n",
        "      video.style.display = 'block';\n",
        "      const stream = await navigator.mediaDevices.getUserMedia({video: true});\n",
        "\n",
        "      document.body.appendChild(div);\n",
        "      div.appendChild(video);\n",
        "      video.srcObject = stream;\n",
        "      await video.play();\n",
        "\n",
        "      // Resize the output to fit the video element.\n",
        "      google.colab.output.setIframeHeight(document.documentElement.scrollHeight, true);\n",
        "\n",
        "      // Wait for Capture to be clicked.\n",
        "      await new Promise((resolve) => capture.onclick = resolve);\n",
        "\n",
        "      const canvas = document.createElement('canvas');\n",
        "      canvas.width = video.videoWidth;\n",
        "      canvas.height = video.videoHeight;\n",
        "      canvas.getContext('2d').drawImage(video, 0, 0);\n",
        "      stream.getVideoTracks()[0].stop();\n",
        "      div.remove();\n",
        "      return canvas.toDataURL('image/jpeg', quality);\n",
        "    }\n",
        "    ''')\n",
        "  display(js)\n",
        "  data = eval_js('takePhoto({})'.format(quality))\n",
        "  binary = b64decode(data.split(',')[1])\n",
        "  with open(filename, 'wb') as f:\n",
        "    f.write(binary)\n",
        "  return filename"
      ],
      "execution_count": 3,
      "outputs": []
    },
    {
      "cell_type": "markdown",
      "metadata": {
        "id": "4kQY44aHrite"
      },
      "source": [
        "# Captura de uma imagem da Webcam\n",
        "\n",
        "Execute o código abaixo para capturar e mostrar uma foto.\n",
        "\n",
        "Neste exemplo, será salvo no arquivo é \"photo1.jpg\"\n",
        "\n",
        "Mude o nome do arquivo conforme sua necessidade."
      ]
    },
    {
      "cell_type": "code",
      "metadata": {
        "id": "JB_2H2niobT5",
        "outputId": "a5d7c8e0-f102-402b-f1e2-d29eb76e2b24",
        "colab": {
          "base_uri": "https://localhost:8080/",
          "height": 514
        }
      },
      "source": [
        "from IPython.display import Image\n",
        "import os\n",
        "image_path = dirLab2\n",
        "filename=os.path.join(image_path,'photo3.jpg')\n",
        "quality=0.8\n",
        "try:\n",
        "  take_photo(filename, quality)\n",
        "\n",
        "  print('Imagem gravada em {}'.format(filename))\n",
        "  \n",
        "  # Show the image which was just taken.\n",
        "  display(Image(filename))\n",
        "except Exception as err:\n",
        "  # Errors will be thrown if the user does not have a webcam or if they do not\n",
        "  # grant the page permission to access it.\n",
        "  print(str(err))"
      ],
      "execution_count": 10,
      "outputs": [
        {
          "output_type": "display_data",
          "data": {
            "application/javascript": [
              "\n",
              "    async function takePhoto(quality) {\n",
              "      const div = document.createElement('div');\n",
              "      const capture = document.createElement('button');\n",
              "      capture.textContent = 'Capture';\n",
              "      div.appendChild(capture);\n",
              "\n",
              "      const video = document.createElement('video');\n",
              "      video.style.display = 'block';\n",
              "      const stream = await navigator.mediaDevices.getUserMedia({video: true});\n",
              "\n",
              "      document.body.appendChild(div);\n",
              "      div.appendChild(video);\n",
              "      video.srcObject = stream;\n",
              "      await video.play();\n",
              "\n",
              "      // Resize the output to fit the video element.\n",
              "      google.colab.output.setIframeHeight(document.documentElement.scrollHeight, true);\n",
              "\n",
              "      // Wait for Capture to be clicked.\n",
              "      await new Promise((resolve) => capture.onclick = resolve);\n",
              "\n",
              "      const canvas = document.createElement('canvas');\n",
              "      canvas.width = video.videoWidth;\n",
              "      canvas.height = video.videoHeight;\n",
              "      canvas.getContext('2d').drawImage(video, 0, 0);\n",
              "      stream.getVideoTracks()[0].stop();\n",
              "      div.remove();\n",
              "      return canvas.toDataURL('image/jpeg', quality);\n",
              "    }\n",
              "    "
            ],
            "text/plain": [
              "<IPython.core.display.Javascript object>"
            ]
          },
          "metadata": {}
        },
        {
          "output_type": "stream",
          "name": "stdout",
          "text": [
            "Imagem gravada em /content/dwm-multimidia.github.io/lab2/jupyter/photo3.jpg\n"
          ]
        },
        {
          "output_type": "display_data",
          "data": {
            "image/jpeg": "[encoded data removed]",
            "text/plain": [
              "<IPython.core.display.Image object>"
            ]
          },
          "metadata": {}
        }
      ]
    },
    {
      "cell_type": "markdown",
      "metadata": {
        "id": "Y1qaDB76ngSs"
      },
      "source": [
        "### Referência:\n",
        "\n",
        "Adaptado de: **Colab Image Handling.** \n",
        "https://colab.research.google.com/github/jfogarty/machine-learning-intro-workshop/blob/master/colab/examples/Colab_Image_Handling.ipynb"
      ]
    }
  ]
}