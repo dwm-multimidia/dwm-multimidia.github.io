{
 "cells": [
  {
   "cell_type": "markdown",
   "metadata": {
    "id": "M2UaF4g3RJ24"
   },
   "source": [
    "# Laboratório 2 - Imagem e Reprodução e Captura de Vídeo"
   ]
  },
  {
   "cell_type": "markdown",
   "metadata": {
    "id": "uuX3CHmSWmd4"
   },
   "source": [
    "Incorporação das bibliotecas OpenCV e Numpy"
   ]
  },
  {
   "cell_type": "code",
   "execution_count": null,
   "metadata": {
    "id": "K3wZkBCu7wJs"
   },
   "outputs": [],
   "source": [
    "import cv2 as cv\n",
    "import numpy as np\n",
    "import matplotlib.pyplot as plt"
   ]
  },
  {
   "cell_type": "code",
   "execution_count": null,
   "metadata": {
    "id": "nMadKAYpuiJH"
   },
   "outputs": [],
   "source": []
  },
  {
   "cell_type": "markdown",
   "metadata": {
    "id": "VBrYBLVn7bsj"
   },
   "source": [
    "Estes comandos são para incorporar meu google drive aqui no notebook. O Google irá perguntar e te enviar um hyperlink, que depois de copiado, efetua a montagem\n"
   ]
  },
  {
   "cell_type": "code",
   "execution_count": null,
   "metadata": {
    "colab": {
     "base_uri": "https://localhost:8080/"
    },
    "executionInfo": {
     "elapsed": 33273,
     "status": "ok",
     "timestamp": 1632416638090,
     "user": {
      "displayName": "Mario Minami",
      "photoUrl": "https://lh3.googleusercontent.com/a-/AOh14GiGW34vf8ndOu_4A3nOLdBwqZBr4SJZttHWZZO8aw=s64",
      "userId": "08881893666429447451"
     },
     "user_tz": 180
    },
    "id": "r61mEkXv7n3V",
    "outputId": "449e755e-d5c0-43db-d5a6-c15df7412e9f"
   },
   "outputs": [
    {
     "name": "stdout",
     "output_type": "stream",
     "text": [
      "Mounted at /content/drive/\n"
     ]
    }
   ],
   "source": [
    "from google.colab import drive\n",
    "drive.mount('/content/drive/')"
   ]
  },
  {
   "cell_type": "markdown",
   "metadata": {
    "id": "hdMOdEy2ox8A"
   },
   "source": [
    "<h2> Subindo Arquivos usados neste Laboratório </h2>\n",
    "Na pasta /Colab Notebooks do google drive faça upload dos notebooks fornecidos, assim como dos arquivos de imagem e vídeo."
   ]
  },
  {
   "cell_type": "markdown",
   "metadata": {
    "id": "xxwJDWN0ryf_"
   },
   "source": [
    "Verifique se os arquivos subiram todos:\n",
    "\n"
   ]
  },
  {
   "cell_type": "code",
   "execution_count": null,
   "metadata": {
    "id": "pe0ed28ZrwqM"
   },
   "outputs": [],
   "source": [
    "!ls -l\n",
    "!ls \"/content/drive/My Drive/Colab Notebooks/\"\n"
   ]
  },
  {
   "cell_type": "markdown",
   "metadata": {
    "id": "qqcq68IzsWO0"
   },
   "source": [
    "<h2> Verificando a Resolução e as Cores"
   ]
  },
  {
   "cell_type": "code",
   "execution_count": null,
   "metadata": {
    "id": "ATPoxvHFjXq1"
   },
   "outputs": [],
   "source": [
    "imgmessi = cv.imread('/content/drive/My Drive/Colab Notebooks/messi5.jpg')\n",
    "altura, largura, camadas = imgmessi.shape\n",
    "print(\"Resolução: \", largura, \" X \", altura, \" PIXELS. \", camadas, \" camadas. \" )\n",
    "plt.imshow(imgmessi)\n",
    "plt.xticks([]), plt.yticks([])\n",
    "plt.show()"
   ]
  },
  {
   "cell_type": "markdown",
   "metadata": {
    "id": "S3qV_QVJ6Cs-"
   },
   "source": [
    "<h2> Versões de imread(), no OpenCV e na biblioteca matplotlib: </h2>\n",
    "O opencv (cv) com o imread()  lê as cores trocadas...\n",
    "Vejam o imread() do matplotlib (plt):"
   ]
  },
  {
   "cell_type": "code",
   "execution_count": null,
   "metadata": {
    "id": "x9FA-tAlbW3n"
   },
   "outputs": [],
   "source": [
    "imagem=plt.imread(\"/content/drive/My Drive/Colab Notebooks/messi5.jpg\") # imread do plt\n",
    "print(\"Formato da imagem: \", imagem.shape)\n",
    "print(f\"Esta imagem contém {imagem.shape[0] * imagem.shape[1]} pixels\")\n",
    "plt.imshow(imagem);\n",
    "plt.show()\n"
   ]
  },
  {
   "cell_type": "code",
   "execution_count": null,
   "metadata": {
    "id": "exdA-bQzwS-A"
   },
   "outputs": [],
   "source": [
    "import cv2 as cv\n",
    "import os\n",
    "image_path = \"/content/drive/My Drive/Colab Notebooks/\"\n",
    "img = cv.imread(os.path.join(image_path,'messi5.jpg'),cv.IMREAD_COLOR)\n",
    "# BGR\n",
    "plt.imshow(img)\n",
    "plt.show()"
   ]
  },
  {
   "cell_type": "code",
   "execution_count": null,
   "metadata": {
    "id": "LZayZ-EjxWt7"
   },
   "outputs": [],
   "source": [
    "# Para termos RGB invertem-se a ordem das cores:\n",
    "imgRGB = img[:,:,::-1]\n",
    "plt.imshow(imgRGB)\n",
    "plt.show()"
   ]
  },
  {
   "cell_type": "markdown",
   "metadata": {
    "id": "q78xwwJa9vsp"
   },
   "source": [
    "Vejam estes códigos:"
   ]
  },
  {
   "cell_type": "code",
   "execution_count": null,
   "metadata": {
    "id": "Dkxn6VsV90ZZ"
   },
   "outputs": [],
   "source": [
    "a = 'MARIO MINAMI'\n",
    "print(a)"
   ]
  },
  {
   "cell_type": "code",
   "execution_count": null,
   "metadata": {
    "id": "04eBp5AR9-tT"
   },
   "outputs": [],
   "source": [
    "b = a[::-1]\n",
    "print(b)"
   ]
  },
  {
   "cell_type": "markdown",
   "metadata": {
    "id": "HfGYrU0d-LDs"
   },
   "source": [
    "O OpenCV tem uma função para isso, cvtColor():\n"
   ]
  },
  {
   "cell_type": "code",
   "execution_count": null,
   "metadata": {
    "id": "tQfK4QBExncv"
   },
   "outputs": [],
   "source": [
    "# BGR to RGB\n",
    "imgRGB = cv.cvtColor(img,cv.COLOR_BGR2RGB)\n",
    "plt.imshow(imgRGB)\n",
    "plt.show()"
   ]
  },
  {
   "cell_type": "code",
   "execution_count": null,
   "metadata": {
    "id": "MGWLFD6QyK83"
   },
   "outputs": [],
   "source": [
    "# Escala de Cinza, o plt.imshow está dando errado...\n",
    "img_gray = cv.imread(os.path.join(image_path,'messi5.jpg'), cv.IMREAD_GRAYSCALE)\n",
    "plt.imshow(img_gray,'gray')\n",
    "plt.show()\n",
    "\n"
   ]
  },
  {
   "cell_type": "markdown",
   "metadata": {
    "id": "UNqRWhw1_VCV"
   },
   "source": [
    "Usando uma versão do google para o colab, do imshow:\n"
   ]
  },
  {
   "cell_type": "code",
   "execution_count": null,
   "metadata": {
    "id": "y6EMF6YM_O04"
   },
   "outputs": [],
   "source": [
    "from google.colab.patches import cv2_imshow # cv2_imshow\n",
    "cv2_imshow(img_gray)\n"
   ]
  },
  {
   "cell_type": "markdown",
   "metadata": {
    "id": "dbxw8Ia1NsBJ"
   },
   "source": [
    "Podemos usar resize() do OpenCV para mudar a resolução da imagem, façamos com a nossa P&B:"
   ]
  },
  {
   "cell_type": "code",
   "execution_count": null,
   "metadata": {
    "id": "gq5e8NJHEdmC"
   },
   "outputs": [],
   "source": [
    "print(img_gray.shape)\n",
    "img2 = cv.resize(img_gray, None, fx=1.25, fy=1.25, interpolation = cv.INTER_CUBIC)\n",
    "print(img2.shape)"
   ]
  },
  {
   "cell_type": "code",
   "execution_count": null,
   "metadata": {
    "id": "H4tdwtwp_wMU"
   },
   "outputs": [],
   "source": [
    "cv2_imshow(img2)"
   ]
  },
  {
   "cell_type": "markdown",
   "metadata": {
    "id": "uyD7BkYPQFED"
   },
   "source": [
    "# REPRODUÇÃO DE VÍDEO"
   ]
  },
  {
   "cell_type": "markdown",
   "metadata": {
    "id": "qrmAdEYGM0KI"
   },
   "source": [
    "Vamos usar o HTML para exibir vídeos no Colab!"
   ]
  },
  {
   "cell_type": "code",
   "execution_count": null,
   "metadata": {
    "id": "QAA-xMQ7FsFF"
   },
   "outputs": [],
   "source": [
    "\n",
    "from IPython.display import HTML\n",
    "from base64 import b64encode\n",
    "video_path = \"/content/drive/My Drive/Colab Notebooks/Pikachu.mp4\"\n",
    "mp4 = open(video_path,'rb').read()\n",
    "video_decodificado = \"data:video/mp4;base64,\" + b64encode(mp4).decode()\n",
    "HTML(f'<video width=720 controls><source src= {video_decodificado} type=\"video/mp4\"></video>')\n",
    "\n"
   ]
  },
  {
   "cell_type": "markdown",
   "metadata": {
    "id": "UTvbOwl0unAk"
   },
   "source": [
    "# Captura de Imagem, usar o Notebook Anexo 1\n",
    "# Captura de Vídeo, usar o Notebook Anexo 2"
   ]
  },
  {
   "cell_type": "code",
   "execution_count": null,
   "metadata": {
    "id": "m-LSu0fpu08h"
   },
   "outputs": [],
   "source": []
  }
 ],
 "metadata": {
  "colab": {
   "collapsed_sections": [],
   "name": "Cópia de Lab2_Imagem_Video_v2.ipynb",
   "provenance": [
    {
     "file_id": "1NeM_YgYL4Lw7EyQVqA7fUsVFhopIOpLq",
     "timestamp": 1632420196272
    }
   ]
  },
  "kernelspec": {
   "display_name": "Python 3 (ipykernel)",
   "language": "python",
   "name": "python3"
  },
  "language_info": {
   "codemirror_mode": {
    "name": "ipython",
    "version": 3
   },
   "file_extension": ".py",
   "mimetype": "text/x-python",
   "name": "python",
   "nbconvert_exporter": "python",
   "pygments_lexer": "ipython3",
   "version": "3.8.5"
  }
 },
 "nbformat": 4,
 "nbformat_minor": 1
}
